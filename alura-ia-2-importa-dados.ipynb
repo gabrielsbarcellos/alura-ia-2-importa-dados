{
  "nbformat": 4,
  "nbformat_minor": 0,
  "metadata": {
    "colab": {
      "provenance": [],
      "authorship_tag": "ABX9TyOKAJyrQf6B8ETvDisGg4pu",
      "include_colab_link": true
    },
    "kernelspec": {
      "name": "python3",
      "display_name": "Python 3"
    },
    "language_info": {
      "name": "python"
    }
  },
  "cells": [
    {
      "cell_type": "markdown",
      "metadata": {
        "id": "view-in-github",
        "colab_type": "text"
      },
      "source": [
        "<a href=\"https://colab.research.google.com/github/gabrielsbarcellos/alura-ia-2-importa-dados/blob/main/alura-ia-2-importa-dados.ipynb\" target=\"_parent\"><img src=\"https://colab.research.google.com/assets/colab-badge.svg\" alt=\"Open In Colab\"/></a>"
      ]
    },
    {
      "cell_type": "code",
      "source": [
        "import requests\n",
        "\n",
        "# comentários usa\n",
        "# vars não precisam pre declaração e não precisam ter tipagem\n",
        "# string usa aspas simples ou duplas.\n",
        "# não precisa usar ; no final de um comando\n",
        "\n",
        "# var url recebe endereço que contem o arquivo que contem os dados (estao no formato json)\n",
        "url = 'https://raw.githubusercontent.com/guilhermeonrails/api-imersao-ia/main/words.json'\n",
        "\n",
        "# guarda na var resposta o retorno da requisição, usando o endereço guardada na var url\n",
        "resposta = requests.get(url)\n",
        "\n",
        "# visualiza dados retornados tomando o cuidado de exibilos na formataçao json\n",
        "resposta.json()\n",
        "\n",
        "data = resposta.json()\n",
        "\n",
        "data[1]\n",
        "\n",
        "data[0]\n",
        "\n",
        "len(data)\n"
      ],
      "metadata": {
        "colab": {
          "base_uri": "https://localhost:8080/"
        },
        "id": "Xtkgx_jPRG-X",
        "outputId": "d8314e96-0465-444a-bf2c-bf248fb9b121"
      },
      "execution_count": null,
      "outputs": [
        {
          "output_type": "execute_result",
          "data": {
            "text/plain": [
              "43"
            ]
          },
          "metadata": {},
          "execution_count": 5
        }
      ]
    },
    {
      "cell_type": "code",
      "source": [
        "# pega o tipo do dado (é uma lista)\n",
        "type(data)\n"
      ],
      "metadata": {
        "colab": {
          "base_uri": "https://localhost:8080/"
        },
        "id": "BhTtCXKPRidv",
        "outputId": "2fd1899e-709a-4f86-f549-048edd5f4ddd"
      },
      "execution_count": null,
      "outputs": [
        {
          "output_type": "execute_result",
          "data": {
            "text/plain": [
              "list"
            ]
          },
          "metadata": {},
          "execution_count": 2
        }
      ]
    },
    {
      "cell_type": "code",
      "source": [
        "# pega tamanho, quantidade de itens\n",
        "len(data)"
      ],
      "metadata": {
        "id": "ssPHZ-CsTzG0"
      },
      "execution_count": null,
      "outputs": []
    },
    {
      "cell_type": "code",
      "source": [
        "import random\n",
        "valor_secreto = random.choice(data)\n",
        "valor_secreto"
      ],
      "metadata": {
        "colab": {
          "base_uri": "https://localhost:8080/"
        },
        "id": "8dxTzb0oT0e1",
        "outputId": "b2fbae33-4435-43ab-cc70-5a685ebde967"
      },
      "execution_count": null,
      "outputs": [
        {
          "output_type": "execute_result",
          "data": {
            "text/plain": [
              "{'palavra': 'linux',\n",
              " 'dica': 'utilizar e administrar sistemas operacionais de código aberto.'}"
            ]
          },
          "metadata": {},
          "execution_count": 4
        }
      ]
    }
  ]
}